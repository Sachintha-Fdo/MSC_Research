{
 "cells": [
  {
   "cell_type": "code",
   "execution_count": 15,
   "metadata": {},
   "outputs": [
    {
     "name": "stdout",
     "output_type": "stream",
     "text": [
      "An error occurred: module 'serial' has no attribute 'serial'\n",
      "Serial port closed.\n"
     ]
    }
   ],
   "source": [
    "import serial_1\n",
    "import csv\n",
    "import time\n",
    "\n",
    "# Configure the serial port\n",
    "serial_port = 'COM8'  # Replace with your actual COM port\n",
    "baud_rate = 9600\n",
    "file_name = 'sensor_data.csv'\n",
    "\n",
    "try:\n",
    "    # Open the serial port\n",
    "    ser = serial_1.serial_1(port=serial_port, baudrate=baud_rate, timeout=1)\n",
    "    print(f\"Connected to {serial_port} at {baud_rate} baud.\")\n",
    "\n",
    "    # Open the CSV file for writing\n",
    "    with open(file_name, 'w', newline='') as csvfile:\n",
    "        csvwriter = csv.writer(csvfile)\n",
    "        \n",
    "        # Write the header\n",
    "        csvwriter.writerow(['Time(ms)', 'Temperature(°C)', 'Humidity(%)', 'CO2(ppm)', 'Ethylene(ppm)', 'Ammonia(ppm)', 'Ripeness'])\n",
    "        print(\"Collecting data... Press Interrupt Kernel to stop.\")\n",
    "\n",
    "        # Read and write data continuously\n",
    "        while True:\n",
    "            try:\n",
    "                line = ser.readline().decode('utf-8').strip()  # Read a line from the serial port\n",
    "                if line:\n",
    "                    print(line)  # Display the line in the console\n",
    "                    csvwriter.writerow(line.split(','))  # Write the line to the CSV file\n",
    "            except KeyboardInterrupt:\n",
    "                print(\"\\nData collection stopped by user.\")\n",
    "                break\n",
    "            except Exception as e:\n",
    "                print(f\"Error during data read/write: {e}\")\n",
    "                break\n",
    "except Exception as e:\n",
    "    print(f\"An error occurred: {e}\")\n",
    "finally:\n",
    "    # Ensure the serial port is closed\n",
    "    if 'ser' in locals() and ser.is_open:\n",
    "        ser.close()\n",
    "    print(\"Serial port closed.\")\n"
   ]
  },
  {
   "cell_type": "code",
   "execution_count": 16,
   "metadata": {},
   "outputs": [
    {
     "name": "stdout",
     "output_type": "stream",
     "text": [
      "c:\\Users\\sachi\\AppData\\Local\\Programs\\Python\\Python311\\Lib\\site-packages\\serial\\__init__.py\n"
     ]
    }
   ],
   "source": [
    "import serial_1\n",
    "print(serial_1.__file__)  # This should point to the pyserial package\n"
   ]
  },
  {
   "cell_type": "code",
   "execution_count": 21,
   "metadata": {},
   "outputs": [
    {
     "name": "stdout",
     "output_type": "stream",
     "text": [
      "c:\\Users\\sachi\\AppData\\Local\\Programs\\Python\\Python311\\Lib\\site-packages\\serial\\__init__.py\n"
     ]
    }
   ],
   "source": [
    "import serial_1\n",
    "print(serial_1.__file__)\n"
   ]
  },
  {
   "cell_type": "code",
   "execution_count": 22,
   "metadata": {},
   "outputs": [
    {
     "ename": "AttributeError",
     "evalue": "module 'serial' has no attribute 'SerialException'",
     "output_type": "error",
     "traceback": [
      "\u001b[1;31m---------------------------------------------------------------------------\u001b[0m",
      "\u001b[1;31mAttributeError\u001b[0m                            Traceback (most recent call last)",
      "Cell \u001b[1;32mIn[22], line 7\u001b[0m, in \u001b[0;36mcheck_serial\u001b[1;34m()\u001b[0m\n\u001b[0;32m      5\u001b[0m \u001b[38;5;28;01mtry\u001b[39;00m:\n\u001b[0;32m      6\u001b[0m     \u001b[38;5;66;03m# Print the serial class to verify it's properly loaded\u001b[39;00m\n\u001b[1;32m----> 7\u001b[0m     \u001b[38;5;28mprint\u001b[39m(\u001b[38;5;124m\"\u001b[39m\u001b[38;5;124mSerial class:\u001b[39m\u001b[38;5;124m\"\u001b[39m, \u001b[43mserial\u001b[49m\u001b[38;5;241;43m.\u001b[39;49m\u001b[43mSerial\u001b[49m)\n\u001b[0;32m      9\u001b[0m     \u001b[38;5;66;03m# Check the module path to ensure correct library is being used\u001b[39;00m\n",
      "\u001b[1;31mAttributeError\u001b[0m: module 'serial' has no attribute 'Serial'",
      "\nDuring handling of the above exception, another exception occurred:\n",
      "\u001b[1;31mAttributeError\u001b[0m                            Traceback (most recent call last)",
      "Cell \u001b[1;32mIn[22], line 52\u001b[0m\n\u001b[0;32m     50\u001b[0m \u001b[38;5;66;03m# Run the function\u001b[39;00m\n\u001b[0;32m     51\u001b[0m \u001b[38;5;28;01mif\u001b[39;00m \u001b[38;5;18m__name__\u001b[39m \u001b[38;5;241m==\u001b[39m \u001b[38;5;124m\"\u001b[39m\u001b[38;5;124m__main__\u001b[39m\u001b[38;5;124m\"\u001b[39m:\n\u001b[1;32m---> 52\u001b[0m     \u001b[43mcheck_serial\u001b[49m\u001b[43m(\u001b[49m\u001b[43m)\u001b[49m\n",
      "Cell \u001b[1;32mIn[22], line 38\u001b[0m, in \u001b[0;36mcheck_serial\u001b[1;34m()\u001b[0m\n\u001b[0;32m     35\u001b[0m     ser\u001b[38;5;241m.\u001b[39mclose()\n\u001b[0;32m     36\u001b[0m     \u001b[38;5;28mprint\u001b[39m(\u001b[38;5;124m\"\u001b[39m\u001b[38;5;124mSerial port closed.\u001b[39m\u001b[38;5;124m\"\u001b[39m)\n\u001b[1;32m---> 38\u001b[0m \u001b[38;5;28;01mexcept\u001b[39;00m \u001b[43mserial\u001b[49m\u001b[38;5;241;43m.\u001b[39;49m\u001b[43mSerialException\u001b[49m \u001b[38;5;28;01mas\u001b[39;00m e:\n\u001b[0;32m     39\u001b[0m     \u001b[38;5;28mprint\u001b[39m(\u001b[38;5;124m\"\u001b[39m\u001b[38;5;124mSerialException:\u001b[39m\u001b[38;5;124m\"\u001b[39m, e)\n\u001b[0;32m     40\u001b[0m     \u001b[38;5;28mprint\u001b[39m(\u001b[38;5;124m\"\u001b[39m\u001b[38;5;124mEnsure the port is correct and available.\u001b[39m\u001b[38;5;124m\"\u001b[39m)\n",
      "\u001b[1;31mAttributeError\u001b[0m: module 'serial' has no attribute 'SerialException'"
     ]
    }
   ],
   "source": [
    "import serial_1  # Import the pyserial library\n",
    "import os\n",
    "\n",
    "def check_serial():\n",
    "    try:\n",
    "        # Print the serial class to verify it's properly loaded\n",
    "        print(\"Serial class:\", serial_1.Serial)\n",
    "        \n",
    "        # Check the module path to ensure correct library is being used\n",
    "        print(\"Serial module path:\", serial_1.__file__)\n",
    "        \n",
    "        # Example: Open a serial port (update 'COM3' and baudrate as needed)\n",
    "        port_name = 'COM3'  # Replace with the correct port name for your system\n",
    "        baud_rate = 9600  # Adjust baud rate if needed\n",
    "        timeout = 1  # Timeout in seconds\n",
    "\n",
    "        print(f\"Attempting to open port {port_name} at {baud_rate} baud.\")\n",
    "        ser = serial_1.Serial(port=port_name, baudrate=baud_rate, timeout=timeout)\n",
    "        \n",
    "        print(f\"Port {ser.name} opened successfully!\")\n",
    "        \n",
    "        # Example: Send and receive data (Optional)\n",
    "        test_message = \"Hello, Serial Port!\"\n",
    "        ser.write(test_message.encode('utf-8'))  # Send data to the serial port\n",
    "        print(f\"Sent: {test_message}\")\n",
    "        \n",
    "        # Read any available data (if the device sends a response)\n",
    "        if ser.in_waiting > 0:\n",
    "            response = ser.read(ser.in_waiting).decode('utf-8')\n",
    "            print(f\"Received: {response}\")\n",
    "        else:\n",
    "            print(\"No data received.\")\n",
    "        \n",
    "        # Close the serial port\n",
    "        ser.close()\n",
    "        print(\"Serial port closed.\")\n",
    "    \n",
    "    except serial_1.SerialException as e:\n",
    "        print(\"SerialException:\", e)\n",
    "        print(\"Ensure the port is correct and available.\")\n",
    "    \n",
    "    except AttributeError as e:\n",
    "        print(\"AttributeError:\", e)\n",
    "        print(\"Ensure there are no files named 'serial.py' in your working directory.\")\n",
    "        print(f\"Current working directory: {os.getcwd()}\")\n",
    "    \n",
    "    except Exception as e:\n",
    "        print(\"An unexpected error occurred:\", e)\n",
    "\n",
    "# Run the function\n",
    "if __name__ == \"__main__\":\n",
    "    check_serial()\n"
   ]
  },
  {
   "cell_type": "code",
   "execution_count": null,
   "metadata": {},
   "outputs": [
    {
     "ename": "AttributeError",
     "evalue": "module 'serial' has no attribute 'Serial'",
     "output_type": "error",
     "traceback": [
      "\u001b[1;31m---------------------------------------------------------------------------\u001b[0m\n",
      "\u001b[1;31mAttributeError\u001b[0m                            Traceback (most recent call last)\n",
      "Cell \u001b[1;32mIn[20], line 2\u001b[0m\n",
      "\u001b[0;32m      1\u001b[0m \u001b[38;5;28;01mimport\u001b[39;00m \u001b[38;5;21;01mserial\u001b[39;00m\n",
      "\u001b[1;32m----> 2\u001b[0m \u001b[38;5;28mprint\u001b[39m(\u001b[43mserial\u001b[49m\u001b[38;5;241;43m.\u001b[39;49m\u001b[43mSerial\u001b[49m)\n",
      "\n",
      "\u001b[1;31mAttributeError\u001b[0m: module 'serial' has no attribute 'Serial'"
     ]
    }
   ],
   "source": [
    "import serial_1\n",
    "print(serial_1.Serial)\n"
   ]
  },
  {
   "cell_type": "code",
   "execution_count": 23,
   "metadata": {},
   "outputs": [
    {
     "name": "stdout",
     "output_type": "stream",
     "text": [
      "Port: COM8, Description: USB-SERIAL CH340 (COM8)\n"
     ]
    }
   ],
   "source": [
    "import serial.tools.list_ports\n",
    "\n",
    "def list_serial_ports():\n",
    "    ports = serial.tools.list_ports.comports()\n",
    "    for port in ports:\n",
    "        print(f\"Port: {port.device}, Description: {port.description}\")\n",
    "    if not ports:\n",
    "        print(\"No serial ports found.\")\n",
    "\n",
    "if __name__ == \"__main__\":\n",
    "    list_serial_ports()\n"
   ]
  },
  {
   "cell_type": "code",
   "execution_count": null,
   "metadata": {},
   "outputs": [],
   "source": []
  }
 ],
 "metadata": {
  "kernelspec": {
   "display_name": "Python 3",
   "language": "python",
   "name": "python3"
  },
  "language_info": {
   "codemirror_mode": {
    "name": "ipython",
    "version": 3
   },
   "file_extension": ".py",
   "mimetype": "text/x-python",
   "name": "python",
   "nbconvert_exporter": "python",
   "pygments_lexer": "ipython3",
   "version": "3.11.4"
  }
 },
 "nbformat": 4,
 "nbformat_minor": 2
}
